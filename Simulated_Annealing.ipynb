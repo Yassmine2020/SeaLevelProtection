{
 "cells": [
  {
   "attachments": {},
   "cell_type": "markdown",
   "metadata": {},
   "source": [
    "## Import Libraries "
   ]
  },
  {
   "cell_type": "code",
   "execution_count": 3,
   "metadata": {},
   "outputs": [],
   "source": [
    "import sys\n",
    "sys.path.append('/paths_generator.py')\n",
    "import paths_generator as pg\n",
    "import random as rand\n",
    "import math as m\n",
    "import numpy as np"
   ]
  },
  {
   "attachments": {},
   "cell_type": "markdown",
   "metadata": {},
   "source": [
    "## Simulated Annealing Function"
   ]
  },
  {
   "cell_type": "code",
   "execution_count": 1,
   "metadata": {},
   "outputs": [],
   "source": [
    "def simulated_annealing (init_st, cost_func, max_it, max_T, cooling_rate):   #cooling_rate howa li ki khli T decreasa\n",
    "  current_st = init_st\n",
    "  best_st = init_st\n",
    "  T = max_T\n",
    "\n",
    "  for i in range(max_it):\n",
    "    if T <= 0:   \n",
    "      break\n",
    "\n",
    "    new_st = current_st.get_neighbor()   # Get a random neighbor of the current state\n",
    "    current_C = cost_func(current_st)\n",
    "    new_C = cost_func(new_C)\n",
    "\n",
    "    if new_C < current_C:\n",
    "      current_st = new_st # Accept the new state as the current state\n",
    "      if new_C < cost_func(best_st):\n",
    "        best_state = new_st  # Update the best state if the new state has a minimal cost\n",
    "    \n",
    "    else: \n",
    "      proba = m.exp(- (current_C - new_C) / T)\n",
    "      if rand.random() < proba:\n",
    "        current_st = new_st\n",
    "        T *= cooling_rate # Cool down the temperature for the next iteration\n",
    "\n",
    "  return best_st"
   ]
  },
  {
   "attachments": {},
   "cell_type": "markdown",
   "metadata": {},
   "source": [
    "## Utils"
   ]
  },
  {
   "attachments": {},
   "cell_type": "markdown",
   "metadata": {},
   "source": [
    "Init data"
   ]
  },
  {
   "cell_type": "code",
   "execution_count": null,
   "metadata": {},
   "outputs": [],
   "source": [
    "T_Ci, assets, slr, region, entries, rows, cols= pg.generator()    # region is a list?  # entries == Bad zones headers\n",
    "zones_num = pg.region.shape[0]*pg.region.shape[1]"
   ]
  },
  {
   "attachments": {},
   "cell_type": "markdown",
   "metadata": {},
   "source": [
    " Check false"
   ]
  },
  {
   "cell_type": "code",
   "execution_count": 1,
   "metadata": {},
   "outputs": [],
   "source": [
    "def check_false(lst):\n",
    "\n",
    "    for element in lst:\n",
    "        \n",
    "        if not element:\n",
    "            return False\n",
    "        \n",
    "    return True"
   ]
  },
  {
   "attachments": {},
   "cell_type": "markdown",
   "metadata": {},
   "source": [
    "Find nan index"
   ]
  },
  {
   "cell_type": "code",
   "execution_count": 2,
   "metadata": {},
   "outputs": [],
   "source": [
    "def find_nan_index(lst):\n",
    "    \n",
    "    for i, element in enumerate(lst):\n",
    "        \n",
    "        if m.isnan(element):\n",
    "            return i\n",
    "        \n",
    "    return len(lst)"
   ]
  },
  {
   "attachments": {},
   "cell_type": "markdown",
   "metadata": {},
   "source": [
    "## Opti problem"
   ]
  },
  {
   "attachments": {},
   "cell_type": "markdown",
   "metadata": {},
   "source": [
    "#### Objective function"
   ]
  },
  {
   "cell_type": "code",
   "execution_count": 3,
   "metadata": {},
   "outputs": [],
   "source": [
    "def objective(x):  #m, n depends on the path: temperary\n",
    "\n",
    "  S = 0\n",
    "  \n",
    "  for i in range(zones_num): # m: present the number of places where we will put our edge\n",
    "    e_i = region[pg.Rcount(i)]  # elevation of the zone i\n",
    "\n",
    "    for j in range(zones_num): # n: present the number of places that we will prevet water flow from thanks to the edge\n",
    "      S += x[i][j] * (slr - e_i)  # maybe direcly ndiro og.\n",
    "  \n",
    "  return S"
   ]
  },
  {
   "attachments": {},
   "cell_type": "markdown",
   "metadata": {},
   "source": [
    "#### Constraint Function"
   ]
  },
  {
   "cell_type": "code",
   "execution_count": null,
   "metadata": {},
   "outputs": [],
   "source": [
    "# It works just for one asset\n",
    "def constraint(x): \n",
    "    \n",
    "    a = []\n",
    "\n",
    "    for asset in pg.assets:\n",
    "      road = T_Ci[asset]\n",
    "      \n",
    "      for k in range (len(road)):  # Nombre des lignes\n",
    "          S = 0\n",
    "\n",
    "          for i in range (road[k][1], road[k][find_nan_index(road[k])]): # Z3ma nbre de colonne li non nulle 'a définir plus tard'\n",
    "            for j in range(road[k][0], road[k][find_nan_index(road[k]) - 1]):\n",
    "              S += x[i][j]\n",
    "\n",
    "          if S < 1 :   # for each k: which mean each road   \n",
    "            return False  # If one of the roads is False, we immediatly return false\n",
    "\n",
    "    return True\n",
    "    "
   ]
  }
 ],
 "metadata": {
  "kernelspec": {
   "display_name": "base",
   "language": "python",
   "name": "python3"
  },
  "language_info": {
   "codemirror_mode": {
    "name": "ipython",
    "version": 3
   },
   "file_extension": ".py",
   "mimetype": "text/x-python",
   "name": "python",
   "nbconvert_exporter": "python",
   "pygments_lexer": "ipython3",
   "version": "3.8.8"
  },
  "orig_nbformat": 4,
  "vscode": {
   "interpreter": {
    "hash": "5ae58900cfbb8c43ab3495913814b7cf26024f51651a94ce8bf64d6111688e8d"
   }
  }
 },
 "nbformat": 4,
 "nbformat_minor": 2
}
