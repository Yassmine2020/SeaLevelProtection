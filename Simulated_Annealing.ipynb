{
 "cells": [
  {
   "attachments": {},
   "cell_type": "markdown",
   "metadata": {},
   "source": [
    "## Import Libraries  & Utils"
   ]
  },
  {
   "cell_type": "code",
   "execution_count": 8,
   "metadata": {},
   "outputs": [
    {
     "name": "stdout",
     "output_type": "stream",
     "text": [
      "81\n"
     ]
    }
   ],
   "source": [
    "import sys\n",
    "sys.path.append('/paths_generator.py')\n",
    "import paths_generator as pg\n",
    "import random as rand\n",
    "import math as m\n",
    "import numpy as np\n",
    "from scipy.optimize import dual_annealing\n",
    "import pdb\n",
    "\n",
    "zones_num = pg.region.shape[0]*pg.region.shape[1]\n",
    "print(zones_num)"
   ]
  },
  {
   "attachments": {},
   "cell_type": "markdown",
   "metadata": {},
   "source": [
    "## Opti problem"
   ]
  },
  {
   "attachments": {},
   "cell_type": "markdown",
   "metadata": {},
   "source": [
    "#### Constraint Function"
   ]
  },
  {
   "cell_type": "code",
   "execution_count": 3,
   "metadata": {},
   "outputs": [],
   "source": [
    "# It works just for one asset\n",
    "def constraint(x): \n",
    "    \n",
    "    constraints = []\n",
    "\n",
    "    for asset in pg.assets:\n",
    "      for road in pg.T_Ci[asset]:\n",
    "        temp = []\n",
    "        \n",
    "        for i in range(len(road)-1):\n",
    "          temp.append(x[road[i+1]][road[i]])\n",
    "\n",
    "        constraints.append(1-sum(temp))   # All of them should be < 0\n",
    "    \n",
    "    return np.array(constraints)"
   ]
  },
  {
   "attachments": {},
   "cell_type": "markdown",
   "metadata": {},
   "source": [
    "#### Objective function (unconstrained problem)"
   ]
  },
  {
   "cell_type": "code",
   "execution_count": 4,
   "metadata": {},
   "outputs": [],
   "source": [
    "# Define the objective function\n",
    "def objective(x, penalty=1e5): \n",
    "    print(\"dkhelt\", x)\n",
    "    S = 0\n",
    "    x = np.array(x)\n",
    "    x = np.reshape(x,(pg.zones_number, pg.zones_number))\n",
    "    for i in range(zones_num):\n",
    "        e_i = pg.region[pg.Rcount(i)] \n",
    "        for j in range(zones_num):\n",
    "            S += x[i][j] * max(0, pg.slr - e_i)\n",
    "    # Apply the constraint function and add penalties for violations\n",
    "    constraints = constraint(x)\n",
    "    if np.any(constraints > 0):\n",
    "        S += penalty * np.sum(constraints)**2   # On applique le lagrangien!  # I don't need le min(max): it's defined explicitly\n",
    "    \n",
    "    print(\"9rib n returni!\")\n",
    "    return S "
   ]
  },
  {
   "attachments": {},
   "cell_type": "markdown",
   "metadata": {},
   "source": [
    "## Dual Annealing"
   ]
  },
  {
   "cell_type": "code",
   "execution_count": 5,
   "metadata": {},
   "outputs": [
    {
     "ename": "TypeError",
     "evalue": "dual_annealing() got an unexpected keyword argument 'int'",
     "output_type": "error",
     "traceback": [
      "\u001b[1;31m---------------------------------------------------------------------------\u001b[0m",
      "\u001b[1;31mTypeError\u001b[0m                                 Traceback (most recent call last)",
      "\u001b[1;32m<ipython-input-5-706818866b7a>\u001b[0m in \u001b[0;36m<module>\u001b[1;34m\u001b[0m\n\u001b[0;32m      3\u001b[0m \u001b[1;33m\u001b[0m\u001b[0m\n\u001b[0;32m      4\u001b[0m \u001b[1;31m# Call the Dual Annealing optimizer\u001b[0m\u001b[1;33m\u001b[0m\u001b[1;33m\u001b[0m\u001b[1;33m\u001b[0m\u001b[0m\n\u001b[1;32m----> 5\u001b[1;33m \u001b[0mresult\u001b[0m \u001b[1;33m=\u001b[0m \u001b[0mdual_annealing\u001b[0m\u001b[1;33m(\u001b[0m\u001b[0mfunc\u001b[0m\u001b[1;33m=\u001b[0m\u001b[0mobjective\u001b[0m\u001b[1;33m,\u001b[0m \u001b[0mbounds\u001b[0m\u001b[1;33m=\u001b[0m\u001b[0mbounds\u001b[0m\u001b[1;33m,\u001b[0m \u001b[0mmaxiter\u001b[0m\u001b[1;33m=\u001b[0m\u001b[1;36m1000\u001b[0m\u001b[1;33m,\u001b[0m \u001b[0mseed\u001b[0m\u001b[1;33m=\u001b[0m\u001b[1;36m123\u001b[0m\u001b[1;33m,\u001b[0m \u001b[0mint\u001b[0m \u001b[1;33m=\u001b[0m \u001b[1;32mTrue\u001b[0m\u001b[1;33m)\u001b[0m\u001b[1;33m\u001b[0m\u001b[1;33m\u001b[0m\u001b[0m\n\u001b[0m\u001b[0;32m      6\u001b[0m \u001b[1;33m\u001b[0m\u001b[0m\n\u001b[0;32m      7\u001b[0m \u001b[1;31m# Print the optimal solution\u001b[0m\u001b[1;33m\u001b[0m\u001b[1;33m\u001b[0m\u001b[1;33m\u001b[0m\u001b[0m\n",
      "\u001b[1;31mTypeError\u001b[0m: dual_annealing() got an unexpected keyword argument 'int'"
     ]
    }
   ],
   "source": [
    "# Define the bounds for the decision variables\n",
    "bounds = [(0, 1) for i in range(zones_num) for j in range(zones_num)]\n",
    "\n",
    "# Call the Dual Annealing optimizer\n",
    "result = dual_annealing(func=objective, bounds=bounds, maxiter=1000, seed=123, int = True)\n",
    "\n",
    "# Print the optimal solution\n",
    "print(result.x)\n",
    "print(result.fun)"
   ]
  },
  {
   "cell_type": "code",
   "execution_count": null,
   "metadata": {},
   "outputs": [],
   "source": [
    "breakpoint()"
   ]
  }
 ],
 "metadata": {
  "kernelspec": {
   "display_name": "base",
   "language": "python",
   "name": "python3"
  },
  "language_info": {
   "codemirror_mode": {
    "name": "ipython",
    "version": 3
   },
   "file_extension": ".py",
   "mimetype": "text/x-python",
   "name": "python",
   "nbconvert_exporter": "python",
   "pygments_lexer": "ipython3",
   "version": "3.8.8"
  },
  "orig_nbformat": 4,
  "vscode": {
   "interpreter": {
    "hash": "5ae58900cfbb8c43ab3495913814b7cf26024f51651a94ce8bf64d6111688e8d"
   }
  }
 },
 "nbformat": 4,
 "nbformat_minor": 2
}
