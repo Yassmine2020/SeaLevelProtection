{
 "cells": [
  {
   "attachments": {},
   "cell_type": "markdown",
   "metadata": {},
   "source": [
    "## Import Libraries"
   ]
  },
  {
   "cell_type": "code",
   "execution_count": 1,
   "metadata": {},
   "outputs": [],
   "source": [
    "pip uninstall scikit-learn"
   ]
  },
  {
   "cell_type": "code",
   "execution_count": 2,
   "metadata": {},
   "outputs": [],
   "source": [
    "import sys\n",
    "sys.path.append('/paths_generator.py')\n",
    "import paths_generator as pg\n",
    "import random as rand\n",
    "import math as m"
   ]
  },
  {
   "attachments": {},
   "cell_type": "markdown",
   "metadata": {},
   "source": [
    "## Simulated Annealing Function"
   ]
  },
  {
   "cell_type": "code",
   "execution_count": 1,
   "metadata": {},
   "outputs": [],
   "source": [
    "def simulated_annealing (init_st, cost_func, max_it, max_T, cooling_rate):   #cooling_rate howa li ki khli T decreasa\n",
    "  current_st = init_st\n",
    "  best_st = init_st\n",
    "  T = max_T\n",
    "\n",
    "  for i in range(max_it):\n",
    "    if T <= 0:   \n",
    "      break\n",
    "\n",
    "    new_st = current_st.get_neighbor()   # Get a random neighbor of the current state\n",
    "    current_C = cost_func(current_st)\n",
    "    new_C = cost_func(new_C)\n",
    "\n",
    "    if new_C < current_C:\n",
    "      current_st = new_st # Accept the new state as the current state\n",
    "      if new_C < cost_funct(best_st):\n",
    "        best_state = new_state  # Update the best state if the new state has a minimal cost\n",
    "    \n",
    "    else: \n",
    "      proba = m.exp(- (current_C - new_C) / T)\n",
    "      if rand.random() < proba:\n",
    "        current_st = new_st\n",
    "        T *= cooling_rate # Cool down the temperature for the next iteration\n",
    "\n",
    "  return best_st"
   ]
  }
 ],
 "metadata": {
  "kernelspec": {
   "display_name": "base",
   "language": "python",
   "name": "python3"
  },
  "language_info": {
   "codemirror_mode": {
    "name": "ipython",
    "version": 3
   },
   "file_extension": ".py",
   "mimetype": "text/x-python",
   "name": "python",
   "nbconvert_exporter": "python",
   "pygments_lexer": "ipython3",
   "version": "3.8.8"
  },
  "orig_nbformat": 4
 },
 "nbformat": 4,
 "nbformat_minor": 2
}
